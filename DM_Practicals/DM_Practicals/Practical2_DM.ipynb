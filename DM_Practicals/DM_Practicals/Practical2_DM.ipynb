{
 "cells": [
  {
   "cell_type": "code",
   "execution_count": 2,
   "id": "5b9ed45f",
   "metadata": {},
   "outputs": [],
   "source": [
    "import pandas as pd\n",
    "import numpy as np\n",
    "import matplotlib.pyplot as plt"
   ]
  },
  {
   "cell_type": "code",
   "execution_count": 3,
   "id": "adab7860",
   "metadata": {},
   "outputs": [],
   "source": [
    "df=pd.read_csv(\"dirty_iris.csv\")"
   ]
  },
  {
   "cell_type": "code",
   "execution_count": 4,
   "id": "fcf2414a",
   "metadata": {},
   "outputs": [
    {
     "name": "stdout",
     "output_type": "stream",
     "text": [
      "Complete observations :  96\n",
      "Percentage of completed observation :  64.0 %\n"
     ]
    }
   ],
   "source": [
    "complete=df.dropna().shape[0]\n",
    "per = (complete/df.shape[0])*100\n",
    "print(\"Complete observations : \",complete)\n",
    "print(\"Percentage of completed observation : \",per,\"%\")"
   ]
  },
  {
   "cell_type": "code",
   "execution_count": 22,
   "id": "8a24ac20",
   "metadata": {},
   "outputs": [],
   "source": [
    "df2=pd.DataFrame()\n",
    "def rules(df):\n",
    "    invalid_species=df.index[(df['Species']!='setosa')&(df['Species']!='virginica')&(df['Species']!='versicolor')].tolist()\n",
    "    col=df.columns\n",
    "    inv=[]\n",
    "    for i in range(0,3):\n",
    "        inv.extend(df.index[df[col[i]]<0].tolist())\n",
    "    invalid_petal=df.index[df[\"Petal.Length\"]<2*df['Petal.Width']].tolist()\n",
    "    invalid_sepal=df.index[df[\"Sepal.Length\"]>30].tolist()\n",
    "    invalid_sepal_length=df.index[df[\"Sepal.Length\"]<df['Petal.Width']].tolist()\n",
    "    invalids = pd.unique(invalid_species + inv +invalid_petal + invalid_sepal + invalid_sepal_length).tolist()\n",
    "    rule1=len(invalid_species)\n",
    "    rule2=len(inv)\n",
    "    rule3=len(invalid_petal)\n",
    "    rule4=len(invalid_sepal)\n",
    "    rule5=len(invalid_sepal_length)\n",
    "    return invalids,rule1,rule2,rule3,rule4,rule5"
   ]
  },
  {
   "cell_type": "code",
   "execution_count": 24,
   "id": "445338db",
   "metadata": {},
   "outputs": [
    {
     "data": {
      "text/html": [
       "<div>\n",
       "<style scoped>\n",
       "    .dataframe tbody tr th:only-of-type {\n",
       "        vertical-align: middle;\n",
       "    }\n",
       "\n",
       "    .dataframe tbody tr th {\n",
       "        vertical-align: top;\n",
       "    }\n",
       "\n",
       "    .dataframe thead th {\n",
       "        text-align: right;\n",
       "    }\n",
       "</style>\n",
       "<table border=\"1\" class=\"dataframe\">\n",
       "  <thead>\n",
       "    <tr style=\"text-align: right;\">\n",
       "      <th></th>\n",
       "      <th>Sepal.Length</th>\n",
       "      <th>Sepal.Width</th>\n",
       "      <th>Petal.Length</th>\n",
       "      <th>Petal.Width</th>\n",
       "      <th>Species</th>\n",
       "    </tr>\n",
       "  </thead>\n",
       "  <tbody>\n",
       "    <tr>\n",
       "      <th>15</th>\n",
       "      <td>5.0</td>\n",
       "      <td>-3.0</td>\n",
       "      <td>3.500</td>\n",
       "      <td>1.0</td>\n",
       "      <td>versicolor</td>\n",
       "    </tr>\n",
       "    <tr>\n",
       "      <th>29</th>\n",
       "      <td>NaN</td>\n",
       "      <td>2.8</td>\n",
       "      <td>0.820</td>\n",
       "      <td>1.3</td>\n",
       "      <td>versicolor</td>\n",
       "    </tr>\n",
       "    <tr>\n",
       "      <th>78</th>\n",
       "      <td>5.1</td>\n",
       "      <td>3.8</td>\n",
       "      <td>0.000</td>\n",
       "      <td>0.2</td>\n",
       "      <td>setosa</td>\n",
       "    </tr>\n",
       "    <tr>\n",
       "      <th>85</th>\n",
       "      <td>5.1</td>\n",
       "      <td>3.8</td>\n",
       "      <td>1.900</td>\n",
       "      <td>inf</td>\n",
       "      <td>setosa</td>\n",
       "    </tr>\n",
       "    <tr>\n",
       "      <th>105</th>\n",
       "      <td>5.5</td>\n",
       "      <td>NaN</td>\n",
       "      <td>0.925</td>\n",
       "      <td>1.0</td>\n",
       "      <td>versicolor</td>\n",
       "    </tr>\n",
       "    <tr>\n",
       "      <th>27</th>\n",
       "      <td>73.0</td>\n",
       "      <td>29.0</td>\n",
       "      <td>63.000</td>\n",
       "      <td>NaN</td>\n",
       "      <td>virginica</td>\n",
       "    </tr>\n",
       "    <tr>\n",
       "      <th>124</th>\n",
       "      <td>49.0</td>\n",
       "      <td>30.0</td>\n",
       "      <td>14.000</td>\n",
       "      <td>2.0</td>\n",
       "      <td>setosa</td>\n",
       "    </tr>\n",
       "    <tr>\n",
       "      <th>42</th>\n",
       "      <td>0.0</td>\n",
       "      <td>NaN</td>\n",
       "      <td>1.300</td>\n",
       "      <td>0.4</td>\n",
       "      <td>setosa</td>\n",
       "    </tr>\n",
       "  </tbody>\n",
       "</table>\n",
       "</div>"
      ],
      "text/plain": [
       "     Sepal.Length  Sepal.Width  Petal.Length  Petal.Width     Species\n",
       "15            5.0         -3.0         3.500          1.0  versicolor\n",
       "29            NaN          2.8         0.820          1.3  versicolor\n",
       "78            5.1          3.8         0.000          0.2      setosa\n",
       "85            5.1          3.8         1.900          inf      setosa\n",
       "105           5.5          NaN         0.925          1.0  versicolor\n",
       "27           73.0         29.0        63.000          NaN   virginica\n",
       "124          49.0         30.0        14.000          2.0      setosa\n",
       "42            0.0          NaN         1.300          0.4      setosa"
      ]
     },
     "execution_count": 24,
     "metadata": {},
     "output_type": "execute_result"
    }
   ],
   "source": [
    "inv,r1,r2,r3,r4,r5 = rules(df)\n",
    "df.iloc[inv]"
   ]
  },
  {
   "cell_type": "code",
   "execution_count": 37,
   "id": "87d4e372",
   "metadata": {},
   "outputs": [
    {
     "name": "stdout",
     "output_type": "stream",
     "text": [
      "Rules is broken  9  times\n"
     ]
    }
   ],
   "source": [
    "print(\"Rules is broken \",r1+r2+r3+r4+r5,\" times\")"
   ]
  },
  {
   "cell_type": "code",
   "execution_count": 35,
   "id": "f6847e0a",
   "metadata": {},
   "outputs": [
    {
     "data": {
      "text/plain": [
       "Text(0.5, 0, \"['0=Rule1', '1=Rule2', '2=Rule3', '3=Rule4', '4=Rule5']\")"
      ]
     },
     "execution_count": 35,
     "metadata": {},
     "output_type": "execute_result"
    },
    {
     "data": {
      "image/png": "[encoded data removed]",
      "text/plain": [
       "<Figure size 432x288 with 1 Axes>"
      ]
     },
     "metadata": {
      "needs_background": "light"
     },
     "output_type": "display_data"
    }
   ],
   "source": [
    "plt.bar([r1,r2,r3,r4,r5],height=(1,2,3,4,5))\n",
    "plt.xlabel(['0=Rule1','1=Rule2','2=Rule3','3=Rule4','4=Rule5'])"
   ]
  },
  {
   "cell_type": "code",
   "execution_count": 44,
   "id": "9e86985e",
   "metadata": {},
   "outputs": [
    {
     "data": {
      "text/html": [
       "<div>\n",
       "<style scoped>\n",
       "    .dataframe tbody tr th:only-of-type {\n",
       "        vertical-align: middle;\n",
       "    }\n",
       "\n",
       "    .dataframe tbody tr th {\n",
       "        vertical-align: top;\n",
       "    }\n",
       "\n",
       "    .dataframe thead th {\n",
       "        text-align: right;\n",
       "    }\n",
       "</style>\n",
       "<table border=\"1\" class=\"dataframe\">\n",
       "  <thead>\n",
       "    <tr style=\"text-align: right;\">\n",
       "      <th></th>\n",
       "      <th>Sepal.Length</th>\n",
       "      <th>Sepal.Width</th>\n",
       "      <th>Petal.Length</th>\n",
       "      <th>Petal.Width</th>\n",
       "    </tr>\n",
       "  </thead>\n",
       "  <tbody>\n",
       "    <tr>\n",
       "      <th>count</th>\n",
       "      <td>140.000000</td>\n",
       "      <td>133.000000</td>\n",
       "      <td>131.000000</td>\n",
       "      <td>138.0</td>\n",
       "    </tr>\n",
       "    <tr>\n",
       "      <th>mean</th>\n",
       "      <td>6.559286</td>\n",
       "      <td>3.390977</td>\n",
       "      <td>4.449962</td>\n",
       "      <td>inf</td>\n",
       "    </tr>\n",
       "    <tr>\n",
       "      <th>std</th>\n",
       "      <td>6.800940</td>\n",
       "      <td>3.315310</td>\n",
       "      <td>5.769299</td>\n",
       "      <td>NaN</td>\n",
       "    </tr>\n",
       "    <tr>\n",
       "      <th>min</th>\n",
       "      <td>0.000000</td>\n",
       "      <td>-3.000000</td>\n",
       "      <td>0.000000</td>\n",
       "      <td>0.1</td>\n",
       "    </tr>\n",
       "    <tr>\n",
       "      <th>25%</th>\n",
       "      <td>5.100000</td>\n",
       "      <td>2.800000</td>\n",
       "      <td>1.600000</td>\n",
       "      <td>0.3</td>\n",
       "    </tr>\n",
       "    <tr>\n",
       "      <th>50%</th>\n",
       "      <td>5.750000</td>\n",
       "      <td>3.000000</td>\n",
       "      <td>4.500000</td>\n",
       "      <td>1.3</td>\n",
       "    </tr>\n",
       "    <tr>\n",
       "      <th>75%</th>\n",
       "      <td>6.400000</td>\n",
       "      <td>3.300000</td>\n",
       "      <td>5.100000</td>\n",
       "      <td>1.8</td>\n",
       "    </tr>\n",
       "    <tr>\n",
       "      <th>max</th>\n",
       "      <td>73.000000</td>\n",
       "      <td>30.000000</td>\n",
       "      <td>63.000000</td>\n",
       "      <td>inf</td>\n",
       "    </tr>\n",
       "  </tbody>\n",
       "</table>\n",
       "</div>"
      ],
      "text/plain": [
       "       Sepal.Length  Sepal.Width  Petal.Length  Petal.Width\n",
       "count    140.000000   133.000000    131.000000        138.0\n",
       "mean       6.559286     3.390977      4.449962          inf\n",
       "std        6.800940     3.315310      5.769299          NaN\n",
       "min        0.000000    -3.000000      0.000000          0.1\n",
       "25%        5.100000     2.800000      1.600000          0.3\n",
       "50%        5.750000     3.000000      4.500000          1.3\n",
       "75%        6.400000     3.300000      5.100000          1.8\n",
       "max       73.000000    30.000000     63.000000          inf"
      ]
     },
     "execution_count": 44,
     "metadata": {},
     "output_type": "execute_result"
    }
   ],
   "source": [
    "df.describe()"
   ]
  },
  {
   "cell_type": "code",
   "execution_count": 20,
   "id": "efc125e5",
   "metadata": {},
   "outputs": [
    {
     "data": {
      "text/plain": [
       "<AxesSubplot:>"
      ]
     },
     "execution_count": 20,
     "metadata": {},
     "output_type": "execute_result"
    },
    {
     "data": {
      "image/png": "[encoded data removed]",
      "text/plain": [
       "<Figure size 432x288 with 1 Axes>"
      ]
     },
     "metadata": {
      "needs_background": "light"
     },
     "output_type": "display_data"
    }
   ],
   "source": [
    "df.boxplot()"
   ]
  },
  {
   "cell_type": "code",
   "execution_count": 41,
   "id": "eeabcd24",
   "metadata": {},
   "outputs": [],
   "source": [
    "df2=df['Sepal.Length'].dropna()"
   ]
  },
  {
   "cell_type": "code",
   "execution_count": 42,
   "id": "946940c2",
   "metadata": {},
   "outputs": [
    {
     "data": {
      "text/plain": [
       "{'whiskers': [<matplotlib.lines.Line2D at 0x17a21f5cdc0>,\n",
       "  <matplotlib.lines.Line2D at 0x17a21f6c190>],\n",
       " 'caps': [<matplotlib.lines.Line2D at 0x17a21f6c520>,\n",
       "  <matplotlib.lines.Line2D at 0x17a21f6c8b0>],\n",
       " 'boxes': [<matplotlib.lines.Line2D at 0x17a21f5ca30>],\n",
       " 'medians': [<matplotlib.lines.Line2D at 0x17a21f6cc40>],\n",
       " 'fliers': [<matplotlib.lines.Line2D at 0x17a21f6cfd0>],\n",
       " 'means': []}"
      ]
     },
     "execution_count": 42,
     "metadata": {},
     "output_type": "execute_result"
    },
    {
     "data": {
      "image/png": "[encoded data removed]",
      "text/plain": [
       "<Figure size 432x288 with 1 Axes>"
      ]
     },
     "metadata": {
      "needs_background": "light"
     },
     "output_type": "display_data"
    }
   ],
   "source": [
    "plt.boxplot(df2)"
   ]
  },
  {
   "cell_type": "code",
   "execution_count": null,
   "id": "546af16a",
   "metadata": {},
   "outputs": [],
   "source": []
  }
 ],
 "metadata": {
  "kernelspec": {
   "display_name": "Python 3 (ipykernel)",
   "language": "python",
   "name": "python3"
  },
  "language_info": {
   "codemirror_mode": {
    "name": "ipython",
    "version": 3
   },
   "file_extension": ".py",
   "mimetype": "text/x-python",
   "name": "python",
   "nbconvert_exporter": "python",
   "pygments_lexer": "ipython3",
   "version": "3.9.7"
  }
 },
 "nbformat": 4,
 "nbformat_minor": 5
}
